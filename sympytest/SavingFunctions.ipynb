{
 "cells": [
  {
   "cell_type": "code",
   "execution_count": 2,
   "metadata": {},
   "outputs": [
    {
     "name": "stdout",
     "output_type": "stream",
     "text": [
      "['m1', 'g'] [1, 9.81]\n"
     ]
    }
   ],
   "source": [
    "import sympy as sp\n",
    "import numpy as np\n",
    "import cloudpickle\n"
   ]
  },
  {
   "cell_type": "code",
   "execution_count": 37,
   "metadata": {},
   "outputs": [],
   "source": [
    "q = q0, q1 = sp.symbols('q:2')\n",
    "sympars = m1, g = sp.symbols('m_1, g') # Same order should be used inside MechanicalSystem Class\n",
    "order = ['m1', 'g']\n",
    "G = sp.Matrix([sp.cos(q0)*g, sp.sin(q1)*m1])"
   ]
  },
  {
   "cell_type": "code",
   "execution_count": 40,
   "metadata": {},
   "outputs": [],
   "source": [
    "to_save = {'order': order,\n",
    "            'G' : sp.lambdify([q, *sympars], G)}\n",
    "\n",
    "with open('gfile.txt', 'wb') as gfile:\n",
    "    test = cloudpickle.dumps(to_save)\n",
    "    gfile.write(test)\n",
    "    \n",
    "with open('gfile.txt', 'rb') as gfile:    \n",
    "    model = cloudpickle.load(gfile)"
   ]
  },
  {
   "cell_type": "code",
   "execution_count": 42,
   "metadata": {},
   "outputs": [
    {
     "data": {
      "text/plain": [
       "array([[ 9.81      ],\n",
       "       [ 0.99999968]])"
      ]
     },
     "execution_count": 42,
     "metadata": {},
     "output_type": "execute_result"
    }
   ],
   "source": [
    "# In main script\n",
    "pars = {'m1' : 1, 'g' : 9.81} # order is arbitrary\n",
    "\n",
    "# In systemsym\n",
    "constant_names = model['order']\n",
    "constant_value = [pars[name] for name in constant_names] # Corresponding numbers in same order as above\n",
    "\n",
    "\n",
    "Luse = lambda q: model['G'](q, *constant_value) # in systemsym class\n",
    "Luse([0,3.14/2]) # in equations of motion\n"
   ]
  }
 ],
 "metadata": {
  "kernelspec": {
   "display_name": "Python 3",
   "language": "python",
   "name": "python3"
  },
  "language_info": {
   "codemirror_mode": {
    "name": "ipython",
    "version": 3
   },
   "file_extension": ".py",
   "mimetype": "text/x-python",
   "name": "python",
   "nbconvert_exporter": "python",
   "pygments_lexer": "ipython3",
   "version": "3.5.2"
  }
 },
 "nbformat": 4,
 "nbformat_minor": 2
}
