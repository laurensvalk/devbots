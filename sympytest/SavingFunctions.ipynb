{
 "cells": [
  {
   "cell_type": "code",
   "execution_count": 2,
   "metadata": {},
   "outputs": [
    {
     "name": "stdout",
     "output_type": "stream",
     "text": [
      "['m1', 'g'] [1, 9.81]\n"
     ]
    }
   ],
   "source": [
    "import sympy as sp\n",
    "import numpy as np\n",
    "import pickle, dill\n",
    "\n",
    "# print(\"Hello, symbolic world\")\n",
    "# par = a, b, c = sp.symbols('a b c', real=True)\n",
    "# x, y, z = sp.symbols('x y z', real=True)\n",
    "# q = q1, q2, q3 = sp.symbols('q:3')\n",
    "# par = sp.Matrix([a, b, c])\n",
    "\n",
    "# formula = a*q1**2 + b*q2 + c\n",
    "# fastfor = sp.lambdify([par, q],formula)\n",
    "# prefill = (1,2,6)\n",
    "# parssub = lambda qv: fastfor(prefill,qv) \n",
    "# a = list(formula.free_symbols)\n",
    "# fastfor?\n",
    "# print(fastfor(prefill,[1,2,3]))\n",
    "# print(parssub([1,2,3]))\n",
    "sp.init_printing()\n",
    "\n",
    "# In main script\n",
    "pars = {'m1' : 1, 'g' : 9.81} # order is arbitrary\n",
    "\n",
    "# In systemsym\n",
    "constant_names = ['m1', 'g'] # Must be same order as used in lambdify process\n",
    "constant_value = [pars[name] for name in constant_names] # Corresponding numbers in same order as above\n",
    "print(constant_names, constant_value)"
   ]
  },
  {
   "cell_type": "code",
   "execution_count": 33,
   "metadata": {},
   "outputs": [
    {
     "name": "stdout",
     "output_type": "stream",
     "text": [
      "9.73 µs ± 21 ns per loop (mean ± std. dev. of 7 runs, 100000 loops each)\n"
     ]
    }
   ],
   "source": [
    "q = q0, q1 = sp.symbols('q:2')\n",
    "sympars = m1, g = sp.symbols('m_1, g') # Same order should be used inside MechanicalSystem Class\n",
    "G = sp.Matrix([sp.cos(q0)*g, sp.sin(q1)*m1])\n",
    "\n",
    "Gfunc = sp.lambdify([q, *sympars], G) # in generator, saved, then reloaded...\n",
    "\n",
    "\n",
    "Guse = lambda q: Gfunc(q, *constant_value) # in systemsym class\n",
    "Guse([0,3.14/2]) # in equations of motion\n",
    "%timeit Guse([0,3.14/2]) # in equations of motion"
   ]
  },
  {
   "cell_type": "code",
   "execution_count": 32,
   "metadata": {},
   "outputs": [
    {
     "name": "stdout",
     "output_type": "stream",
     "text": [
      "9.71 µs ± 73.8 ns per loop (mean ± std. dev. of 7 runs, 100000 loops each)\n"
     ]
    }
   ],
   "source": [
    "\n",
    "with open('gfile.txt', 'wb') as gfile:\n",
    "    test = cloudpickle.dumps(Gfunc)\n",
    "    gfile.write(test)\n",
    "    \n",
    "with open('gfile.txt', 'rb') as gfile:    \n",
    "    Gfuncreloaded = cloudpickle.load(gfile)\n",
    "    \n",
    "Luse = lambda q: Gfuncreloaded(q, *constant_value) # in systemsym class\n",
    "Luse([0,3.14/2]) # in equations of motion\n",
    "\n",
    "%timeit Luse([0,3.14/2]) # in equations of motion"
   ]
  },
  {
   "cell_type": "code",
   "execution_count": 7,
   "metadata": {},
   "outputs": [
    {
     "data": {
      "image/png": "[encoded data removed]",
      "text/latex": [
       "$$4$$"
      ],
      "text/plain": [
       "4"
      ]
     },
     "execution_count": 7,
     "metadata": {},
     "output_type": "execute_result"
    }
   ],
   "source": [
    ">>> import cloudpickle\n",
    ">>> squared = lambda x: x ** 2\n",
    ">>> pickled_lambda = cloudpickle.dumps(squared)\n",
    "\n",
    ">>> import pickle\n",
    ">>> new_squared = pickle.loads(pickled_lambda)\n",
    ">>> new_squared(2)\n",
    "4"
   ]
  }
 ],
 "metadata": {
  "kernelspec": {
   "display_name": "Python 3",
   "language": "python",
   "name": "python3"
  },
  "language_info": {
   "codemirror_mode": {
    "name": "ipython",
    "version": 3
   },
   "file_extension": ".py",
   "mimetype": "text/x-python",
   "name": "python",
   "nbconvert_exporter": "python",
   "pygments_lexer": "ipython3",
   "version": "3.5.2"
  }
 },
 "nbformat": 4,
 "nbformat_minor": 2
}
